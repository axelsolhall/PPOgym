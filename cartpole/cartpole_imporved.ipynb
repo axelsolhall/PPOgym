{
 "cells": [
  {
   "cell_type": "code",
   "execution_count": 56,
   "metadata": {},
   "outputs": [],
   "source": [
    "# Auxiliar imports\n",
    "import sys, os, time\n",
    "import matplotlib.pyplot as plt\n",
    "import numpy as np\n",
    "\n",
    "# Gym imports\n",
    "import gym\n",
    "from gym.vector import SyncVectorEnv\n",
    "\n",
    "# PyTorch imports\n",
    "import torch\n",
    "from torch import nn, optim\n",
    "\n",
    "# Custom imports\n",
    "sys.path.append(os.path.abspath('..')) # Add parent directory to path\n",
    "import ppo_network, ppo_wrapper, importlib\n",
    "importlib.reload(ppo_network) # Prevents caching issues with notebooks\n",
    "from ppo_network import PPONetwork\n",
    "importlib.reload(ppo_wrapper) # Prevents caching issues with notebooks\n",
    "from ppo_wrapper import PPOWrapper\n",
    "\n",
    "import hp_tuner\n",
    "importlib.reload(hp_tuner) # Prevents caching issues with notebooks\n",
    "from hp_tuner import HPTuner"
   ]
  },
  {
   "cell_type": "code",
   "execution_count": 57,
   "metadata": {},
   "outputs": [],
   "source": [
    "# CartPole environment\n",
    "env_id = 'CartPole-v1'\n",
    "max_episode_steps = 1024\n",
    "num_envs = 16\n",
    "\n",
    "env_kwargs = {\n",
    "    'id': env_id,\n",
    "    'max_episode_steps': max_episode_steps,\n",
    "}\n",
    "\n",
    "# Create vectorized environment\n",
    "envs_vector = SyncVectorEnv([lambda: gym.make(**env_kwargs)] * num_envs)\n",
    "states, infos = envs_vector.reset()"
   ]
  },
  {
   "cell_type": "code",
   "execution_count": 58,
   "metadata": {},
   "outputs": [
    {
     "name": "stdout",
     "output_type": "stream",
     "text": [
      "Elapsed time: per vectorized env: 0.00 s\n"
     ]
    },
    {
     "name": "stderr",
     "output_type": "stream",
     "text": [
      "/Users/axelsolhall/miniconda3/envs/PPOgym/lib/python3.12/site-packages/gym/utils/passive_env_checker.py:233: DeprecationWarning: `np.bool8` is a deprecated alias for `np.bool_`.  (Deprecated NumPy 1.24)\n",
      "  if not isinstance(terminated, (bool, np.bool8)):\n"
     ]
    }
   ],
   "source": [
    "# Network\n",
    "input_dims = 4\n",
    "output_dims = 2\n",
    "shared_hidden_dims = [512, 256, 128]\n",
    "policy_hidden_dims = [64, 64]\n",
    "value_hidden_dims = [64, 64]\n",
    "activation = nn.ReLU\n",
    "\n",
    "network_kwargs = {\n",
    "    'input_dims': input_dims,\n",
    "    'output_dims': output_dims,\n",
    "    'shared_hidden_dims': shared_hidden_dims,\n",
    "    'policy_hidden_dims': policy_hidden_dims,\n",
    "    'value_hidden_dims': value_hidden_dims,\n",
    "    'activation': activation,\n",
    "}\n",
    "\n",
    "network = PPONetwork(**network_kwargs)\n",
    "\n",
    "# Test forward pass\n",
    "now = time.time()\n",
    "for _ in range(100):\n",
    "    states_tensor = torch.tensor(states, dtype=torch.float32)\n",
    "    policy, value = network(states_tensor)\n",
    "    \n",
    "    actions_dist = torch.distributions.Categorical(logits=policy)\n",
    "    actions = actions_dist.sample().numpy()\n",
    "    \n",
    "    states, rewards, dones, truncateds, infos = envs_vector.step(actions)\n",
    "    #print(dones)\n",
    "\n",
    "print(\n",
    "    f'Elapsed time: per vectorized env: {(time.time() - now)/num_envs:.2f} s'\n",
    "    )"
   ]
  },
  {
   "cell_type": "code",
   "execution_count": 59,
   "metadata": {},
   "outputs": [],
   "source": [
    "# PPO hyperparameters\n",
    "lr = 3e-4\n",
    "final_lr = 1e-6\n",
    "\n",
    "gamma = 0.99\n",
    "lam = 0.90\n",
    "\n",
    "clip_eps = 0.25\n",
    "final_clip_eps = 0.01\n",
    "\n",
    "value_coef = 0.7\n",
    "\n",
    "entropy_coef = 0.1\n",
    "final_entropy_coef = 0.01\n",
    "\n",
    "batch_size = 256\n",
    "batch_epochs = 10\n",
    "batch_shuffle = True\n",
    "\n",
    "iterations = 1024\n",
    "\n",
    "truncated_reward = 5\n",
    "\n",
    "debug_prints = False\n",
    "\n",
    "ppo_kwargs = {\n",
    "    'num_envs': num_envs,\n",
    "    'lr': lr,\n",
    "    'final_lr': final_lr,\n",
    "    'gamma': gamma,\n",
    "    'lam': lam,\n",
    "    'clip_eps': clip_eps,\n",
    "    'final_clip_eps': final_clip_eps,\n",
    "    'value_coef': value_coef,\n",
    "    'entropy_coef': entropy_coef,\n",
    "    'final_entropy_coef': final_entropy_coef,\n",
    "    'batch_size': batch_size,\n",
    "    'batch_epochs': batch_epochs,\n",
    "    'batch_shuffle': batch_shuffle,\n",
    "    'iterations': iterations,\n",
    "    'truncated_reward': truncated_reward,\n",
    "    'debug_prints': debug_prints,   \n",
    "}\n",
    "\n",
    "#ppo_wrapper = PPOWrapper(envs_vector, network, **ppo_kwargs)\n",
    "\n",
    "#ppo_wrapper.train(generations=1)\n"
   ]
  },
  {
   "cell_type": "code",
   "execution_count": 60,
   "metadata": {},
   "outputs": [
    {
     "name": "stdout",
     "output_type": "stream",
     "text": [
      "Running evolution with generations: [0, 10, 20, 30, 40, 50, 60, 70, 80, 90, 100, 110, 120, 130, 140, 150, 160, 170, 180, 190, 200, 210, 220, 230, 240, 250]\n",
      "Video saved to videos/evolution_video_250_gens_9ecf97d0.mp4\n"
     ]
    }
   ],
   "source": [
    "hp_optimizer = HPOptimizer(\n",
    "    env_kwargs=env_kwargs,\n",
    "    num_envs=num_envs,\n",
    "    network_class = PPONetwork,\n",
    "    network_kwargs=network_kwargs,\n",
    "    ppo_class=PPOWrapper,\n",
    "    ppo_kwargs=ppo_kwargs,\n",
    ")\n",
    "\n",
    "parameters = [\n",
    "    'clip_eps', \n",
    "    'value_coef', \n",
    "    'entropy_coef', \n",
    "    'batch_size', \n",
    "    'batch_epochs',\n",
    "    ]\n",
    "\n",
    "# evolutions = hp_optimizer.optimize_hyperparameters(\n",
    "#     parameters, generations=50, num_trials = 8,\n",
    "#     )\n",
    "\n",
    "hp_optimizer.evolution_video(\n",
    "    generations=250, video_folder = 'videos', increments=25, max_frames=120\n",
    "    )"
   ]
  }
 ],
 "metadata": {
  "kernelspec": {
   "display_name": "PPOgym",
   "language": "python",
   "name": "python3"
  },
  "language_info": {
   "codemirror_mode": {
    "name": "ipython",
    "version": 3
   },
   "file_extension": ".py",
   "mimetype": "text/x-python",
   "name": "python",
   "nbconvert_exporter": "python",
   "pygments_lexer": "ipython3",
   "version": "3.12.7"
  }
 },
 "nbformat": 4,
 "nbformat_minor": 2
}
